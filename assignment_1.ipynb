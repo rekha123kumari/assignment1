{
  "nbformat": 4,
  "nbformat_minor": 0,
  "metadata": {
    "colab": {
      "provenance": []
    },
    "kernelspec": {
      "name": "python3",
      "display_name": "Python 3"
    },
    "language_info": {
      "name": "python"
    }
  },
  "cells": [
    {
      "cell_type": "markdown",
      "source": [],
      "metadata": {
        "id": "ZxIgLZskYVFS"
      }
    },
    {
      "cell_type": "code",
      "execution_count": null,
      "metadata": {
        "id": "2Wy34qAUSLEy"
      },
      "outputs": [],
      "source": [
        "from os import EX_CANTCREAT\n",
        "# @title Default title text\n",
        "# UI/UX\n",
        "\n",
        "\n",
        ")1. What is the significance of user-centered design in UI/UX?!\n",
        "    -A well-designed UI creatwe a seamless user experinence ,allow user to efficient interact t6he product. it play a cruical role in setting the tone anbd tone of the product,influence user engagement\n",
        "\n",
        "2. ) How do wireframes contribute to the UI/UX design process?!\n",
        "    -It proved a visual representation of the design concept and layout of the design and stakeholder and better understand how the interface will look the function. they clarify feature and navigation.\n",
        "\n",
        "3.Explain the role of usability testing in improving user experience?!\n",
        "    -Usability testing involve real user performance specific task or scenarios . Usability testing proviudes valuable  insights into the user experience usabiltity, issues and improvemrnt of\n",
        "    thier production.\n",
        "\n",
        "4.Discuss the importance of accessibility in UI/UX design?!\n",
        "   -accessibility in UI/UX design is the practice of desinging product and servies for users of varies abilities. accessible and understand ,regaredless of their abilities,content.\n",
        "   accessibility also aim to level the playing field.\n",
        "\n",
        "\n",
        "5. What are the key principles of effective visual design in UI/UX?\n",
        "      -there are many key point\n",
        "      contrast ,hierarchy,visual hierarchy, balance,accessibility, colour, typography EX_CANTCREAT\n",
        "\n",
        "\n",
        "\n",
        "  6.\u000e) How do personas influence the design decisions in UI/UX projects?\n",
        "       - it is help to guide critical decision about layout , content,and how to user interact with interface."
      ]
    },
    {
      "cell_type": "markdown",
      "source": [],
      "metadata": {
        "id": "282L-8DIcSEp"
      }
    },
    {
      "cell_type": "code",
      "source": [],
      "metadata": {
        "id": "FtiJRgvWcRuG"
      },
      "execution_count": null,
      "outputs": []
    }
  ]
}